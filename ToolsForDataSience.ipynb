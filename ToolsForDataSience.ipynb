{
 "cells": [
  {
   "cell_type": "markdown",
   "metadata": {},
   "source": [
    "<center>\n",
    "    <img src=\"https://cf-courses-data.s3.us.cloud-object-storage.appdomain.cloud/IBMDeveloperSkillsNetwork-DS0105EN-SkillsNetwork/labs/Module2/images/SN_web_lightmode.png\" width=\"300\" alt=\"cognitiveclass.ai logo\"  />\n",
    "</center>\n"
   ]
  },
  {
   "cell_type": "markdown",
   "metadata": {},
   "source": [
    "#### Add your code below following the instructions given in the course\n"
   ]
  },
  {
   "cell_type": "markdown",
   "metadata": {},
   "source": [
    "# My Jupyter Notebook on IBM Watson Studio"
   ]
  },
  {
   "cell_type": "markdown",
   "metadata": {},
   "source": [
    "**Tewabe Kebede**\n",
    "<br>Data scientist"
   ]
  },
  {
   "cell_type": "markdown",
   "metadata": {},
   "source": [
    "*I'm interested in data science becuase it is a field where you can see the world with data.*\n",
    "<br>*Also it motivates me to learn it as my job is focusing on manipulating and analyzing vast amount of data*"
   ]
  },
  {
   "cell_type": "markdown",
   "metadata": {},
   "source": [
    "### The following code will multiply and print out w and l"
   ]
  },
  {
   "cell_type": "code",
   "execution_count": 11,
   "metadata": {},
   "outputs": [
    {
     "name": "stdout",
     "output_type": "stream",
     "text": [
      "6\n"
     ]
    }
   ],
   "source": [
    "w=2\n",
    "l=3\n",
    "print(w*l)"
   ]
  },
  {
   "cell_type": "markdown",
   "metadata": {},
   "source": [
    "Using Markdown or HTML, this cell must include at least 3 of the following: horizontal rule, bulleted list, numbered list, tables, hyperlinks, images, code/syntax highlighting, blocked quotes, strikethrough.\n",
    "\n",
    "***\n",
    "horizontal rule\n",
    "***\n",
    "* list one.\n",
    "* list two.\n",
    "\n",
    "***\n",
    "1. number one\n",
    "2. number two\n",
    "\n",
    "***\n",
    "\n",
    "Our program website can be found at <a href=\"http://earthdatascience.org\" target=\"_blank\">this link</a>.\n",
    "\n",
    "I love this nature beauty. ![Look at this nature](https://wallpaperaccess.com/full/393735.jpg)\n",
    "\n",
    "~This is a scratchthrough and needs to be removed~\n",
    "\n",
    "> This is a blocked qutoes: Chance dispenses life into unequal justice\n",
    "---\n",
    "This is a table \n",
    "\n",
    "|col1|col2|col3|\n",
    "|---|--|--|\n",
    "|A|b|C|\n",
    "|1|2|3|\n",
    "\n",
    "<code style=\"background:yellow;color:black\">This is highlighting important points. Pay attention to it.</code>\n"
   ]
  }
 ],
 "metadata": {
  "kernelspec": {
   "display_name": "Python 3",
   "language": "python",
   "name": "python3"
  },
  "language_info": {
   "codemirror_mode": {
    "name": "ipython",
    "version": 3
   },
   "file_extension": ".py",
   "mimetype": "text/x-python",
   "name": "python",
   "nbconvert_exporter": "python",
   "pygments_lexer": "ipython3",
   "version": "3.7.6"
  }
 },
 "nbformat": 4,
 "nbformat_minor": 4
}
